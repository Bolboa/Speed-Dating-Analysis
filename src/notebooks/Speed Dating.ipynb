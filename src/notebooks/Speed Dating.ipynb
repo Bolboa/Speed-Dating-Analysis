{
 "cells": [
  {
   "cell_type": "markdown",
   "metadata": {},
   "source": [
    "# Speed Dating Analysis\n",
    "\n",
    "The aim of this project was to get the best match accuracy of a participant in a speed dating event. We want to be able to predict the likeliness that a participant will find a match by using learning models on the data set. The data set is veru unclean so a lot of preprocessing was necessary in order to achieve the highest accuracy possible in the models used."
   ]
  },
  {
   "cell_type": "markdown",
   "metadata": {},
   "source": [
    "## Analyzing the Data\n",
    "\n",
    "After loading the data, we will perform a little analysis to get a feel of the data set and to prove that some features in the data set are more strongly correlate to the target feature which is the *match rate*."
   ]
  },
  {
   "cell_type": "code",
   "execution_count": 1,
   "metadata": {
    "collapsed": true
   },
   "outputs": [],
   "source": [
    "import tensorflow as tf\n",
    "import numpy as np\n",
    "import pandas as pd\n",
    "import seaborn as sns\n",
    "import matplotlib.pyplot as plt\n",
    "from sklearn.preprocessing import LabelEncoder\n",
    "from sklearn.feature_selection import RFE\n",
    "from sklearn.linear_model import LogisticRegression\n",
    "from sklearn import model_selection, tree, metrics"
   ]
  },
  {
   "cell_type": "code",
   "execution_count": 2,
   "metadata": {},
   "outputs": [
    {
     "name": "stderr",
     "output_type": "stream",
     "text": [
      "/usr/local/lib/python3.5/dist-packages/IPython/core/interactiveshell.py:2683: DtypeWarning: Columns (49,50) have mixed types. Specify dtype option on import or set low_memory=False.\n",
      "  interactivity=interactivity, compiler=compiler, result=result)\n"
     ]
    }
   ],
   "source": [
    "# Read CSV Speed Dating Data using Pandas.\n",
    "data = pd.read_csv('../Speed Dating Data.csv')"
   ]
  },
  {
   "cell_type": "markdown",
   "metadata": {},
   "source": [
    "As you can see there is a warning message above that tells us some columns have mixed types, we will fix this later on in the preprocessing step."
   ]
  },
  {
   "cell_type": "code",
   "execution_count": 3,
   "metadata": {},
   "outputs": [
    {
     "name": "stdout",
     "output_type": "stream",
     "text": [
      "iid             8378\n",
      "id              8377\n",
      "gender          8378\n",
      "idg             8378\n",
      "condtn          8378\n",
      "wave            8378\n",
      "round           8378\n",
      "position        8378\n",
      "positin1        6532\n",
      "order           8378\n",
      "partner         8378\n",
      "pid             8368\n",
      "match           8378\n",
      "int_corr        8220\n",
      "samerace        8378\n",
      "age_o           8274\n",
      "race_o          8305\n",
      "pf_o_att        8289\n",
      "pf_o_sin        8289\n",
      "pf_o_int        8289\n",
      "pf_o_fun        8280\n",
      "pf_o_amb        8271\n",
      "pf_o_sha        8249\n",
      "dec_o           8378\n",
      "attr_o          8166\n",
      "sinc_o          8091\n",
      "intel_o         8072\n",
      "fun_o           8018\n",
      "amb_o           7656\n",
      "shar_o          7302\n",
      "                ... \n",
      "shar1_3         3974\n",
      "attr7_3         2016\n",
      "sinc7_3         2016\n",
      "intel7_3        2016\n",
      "fun7_3          2016\n",
      "amb7_3          2016\n",
      "shar7_3         2016\n",
      "attr4_3         2959\n",
      "sinc4_3         2959\n",
      "intel4_3        2959\n",
      "fun4_3          2959\n",
      "amb4_3          2959\n",
      "shar4_3         2959\n",
      "attr2_3         2959\n",
      "sinc2_3         2959\n",
      "intel2_3        2959\n",
      "fun2_3          2959\n",
      "amb2_3          2959\n",
      "shar2_3         2016\n",
      "attr3_3         3974\n",
      "sinc3_3         3974\n",
      "intel3_3        3974\n",
      "fun3_3          3974\n",
      "amb3_3          3974\n",
      "attr5_3         2016\n",
      "sinc5_3         2016\n",
      "intel5_3        2016\n",
      "fun5_3          2016\n",
      "amb5_3          2016\n",
      "Unnamed: 195      15\n",
      "Length: 196, dtype: int64\n"
     ]
    }
   ],
   "source": [
    "# Count rows of data.\n",
    "print(data.count())"
   ]
  },
  {
   "cell_type": "markdown",
   "metadata": {},
   "source": [
    "Some columns are completely filled up. A filled up column should have *8378* rows. However some have as low as *2016* which is no good. It is pretty clear that columns with a large number of empty values most likely hinder rather than help our prediction models. "
   ]
  },
  {
   "cell_type": "code",
   "execution_count": 4,
   "metadata": {},
   "outputs": [
    {
     "name": "stdout",
     "output_type": "stream",
     "text": [
      "Mean Age: 26.3589279247\n",
      "age   gender\n",
      "18.0  1         0.000000\n",
      "19.0  0         0.500000\n",
      "      1         0.000000\n",
      "20.0  0         0.366667\n",
      "      1         0.120000\n",
      "21.0  0         0.191257\n",
      "      1         0.277778\n",
      "22.0  0         0.156593\n",
      "      1         0.127148\n",
      "23.0  0         0.149901\n",
      "      1         0.175711\n",
      "24.0  0         0.136564\n",
      "      1         0.149144\n",
      "25.0  0         0.239560\n",
      "      1         0.227749\n",
      "26.0  0         0.168699\n",
      "      1         0.167109\n",
      "27.0  0         0.156463\n",
      "      1         0.160194\n",
      "28.0  0         0.155063\n",
      "      1         0.188372\n",
      "29.0  0         0.162996\n",
      "      1         0.154696\n",
      "30.0  0         0.123223\n",
      "      1         0.157025\n",
      "31.0  0         0.240741\n",
      "      1         0.070423\n",
      "32.0  0         0.087719\n",
      "      1         0.104575\n",
      "33.0  0         0.128000\n",
      "      1         0.111111\n",
      "34.0  0         0.144578\n",
      "      1         0.115942\n",
      "35.0  0         0.166667\n",
      "36.0  0         0.120000\n",
      "      1         0.050000\n",
      "37.0  1         0.000000\n",
      "38.0  0         0.105263\n",
      "39.0  1         0.111111\n",
      "42.0  1         0.200000\n",
      "55.0  0         0.000000\n",
      "Name: match, dtype: float64\n"
     ]
    }
   ],
   "source": [
    "# Display the mean age.\n",
    "print(\"Mean Age:\", data[\"age\"].mean())\n",
    "\n",
    "# Display match rate based on the age of the participant and their gender.\n",
    "match_rate_gender = data.groupby(['age', 'gender']).mean()\n",
    "print(match_rate_gender['match'])"
   ]
  },
  {
   "cell_type": "markdown",
   "metadata": {},
   "source": [
    "I wanted to prove that some features are closely correlated to the match rate. It is pretty well established that gender and age most likely play a role in how succesful they are. The mean age is 26, so I assume that the youngest of women under 26 probably have a higher match rate than the youngest of men under 26. The data seems to show this, however I also displayed the data in a graph."
   ]
  },
  {
   "cell_type": "code",
   "execution_count": 5,
   "metadata": {},
   "outputs": [
    {
     "data": {
      "image/png": "[encoded data removed]",
      "text/plain": [
       "<matplotlib.figure.Figure at 0x7f8ae65c9f60>"
      ]
     },
     "metadata": {},
     "output_type": "display_data"
    }
   ],
   "source": [
    "# Plot match rate based on age of particpant and their gender.\n",
    "plt.figure(figsize=(15, 15))\n",
    "match_rate_gender['match'].plot.bar()\n",
    "plt.show()"
   ]
  },
  {
   "cell_type": "markdown",
   "metadata": {},
   "source": [
    "It does seem to be true that for girls under 21 the match rate is much higher than for men. After that things start to level off. I took this a step further and added the age of their partner from the speed dating event."
   ]
  },
  {
   "cell_type": "code",
   "execution_count": 6,
   "metadata": {},
   "outputs": [
    {
     "name": "stdout",
     "output_type": "stream",
     "text": [
      "age   gender  age_o\n",
      "18.0  1       19.0     0.000000\n",
      "              20.0     0.000000\n",
      "              21.0     0.000000\n",
      "19.0  0       18.0     0.000000\n",
      "              19.0     0.000000\n",
      "              20.0     1.000000\n",
      "              21.0     1.000000\n",
      "              22.0     0.250000\n",
      "      1       19.0     0.000000\n",
      "              20.0     0.000000\n",
      "              21.0     0.000000\n",
      "20.0  0       18.0     0.000000\n",
      "              19.0     0.000000\n",
      "              20.0     0.333333\n",
      "              21.0     0.833333\n",
      "              22.0     0.333333\n",
      "      1       19.0     1.000000\n",
      "              20.0     0.333333\n",
      "              21.0     0.000000\n",
      "              24.0     0.000000\n",
      "              25.0     0.250000\n",
      "              26.0     0.000000\n",
      "              27.0     0.000000\n",
      "              29.0     0.000000\n",
      "              30.0     0.000000\n",
      "              34.0     0.000000\n",
      "21.0  0       18.0     0.000000\n",
      "              19.0     0.000000\n",
      "              20.0     0.000000\n",
      "              21.0     0.461538\n",
      "                         ...   \n",
      "38.0  0       26.0     0.500000\n",
      "              27.0     0.000000\n",
      "              29.0     0.250000\n",
      "              30.0     0.000000\n",
      "              31.0     0.000000\n",
      "              34.0     0.000000\n",
      "39.0  1       22.0     0.500000\n",
      "              23.0     0.000000\n",
      "              25.0     0.000000\n",
      "              26.0     0.000000\n",
      "              27.0     0.000000\n",
      "              28.0     0.000000\n",
      "              29.0     0.500000\n",
      "              30.0     0.000000\n",
      "              32.0     0.000000\n",
      "              34.0     0.000000\n",
      "              35.0     0.000000\n",
      "42.0  1       22.0     0.000000\n",
      "              23.0     0.000000\n",
      "              24.0     0.000000\n",
      "              25.0     0.400000\n",
      "              26.0     0.000000\n",
      "              27.0     0.000000\n",
      "              28.0     0.500000\n",
      "              29.0     0.000000\n",
      "              30.0     0.000000\n",
      "              31.0     1.000000\n",
      "55.0  0       23.0     0.000000\n",
      "              27.0     0.000000\n",
      "              33.0     0.000000\n",
      "Name: match, Length: 554, dtype: float64\n"
     ]
    }
   ],
   "source": [
    "# Display the match rate when age of participant, age of partner, and gender are considered.\n",
    "match_rate_age = data.groupby(['age', 'gender', 'age_o']).mean()\n",
    "print(match_rate_age['match'])"
   ]
  },
  {
   "cell_type": "markdown",
   "metadata": {},
   "source": [
    "In the output above, we can see that young women tend to prefer older men. For example, at the age of 19, if a woman's partner is 20, 21, or 22, the match rate is much higher than for men. In fact, for 19 year old men, the match rate is 0. This match rate seems to hold true for the years below the age of 26."
   ]
  },
  {
   "cell_type": "markdown",
   "metadata": {},
   "source": [
    "The point of all this is to prove that some features are strongly correlated to the match rate. However, the opposite is true as well, that some features are also redundant, but we will show this using a clustering algorithm later on. The clustering algorithm will tell us which are the most strongly correlated, and which are the most redundant."
   ]
  },
  {
   "cell_type": "markdown",
   "metadata": {},
   "source": [
    "## Preprocessing\n",
    "\n",
    "Here we clean up the data before passing it to our learning models."
   ]
  },
  {
   "cell_type": "markdown",
   "metadata": {},
   "source": [
    "Normally, before preprocessing the data, we create a copy of the original data, which I did in python scripts but I will skip that for now. First, since we saw earlier that many columns had a significant amount of empty values, I'm going to create a threshold where I remove all columns where more than 23% of their data are empty. Moreover, there are a couple of features we can already drop right off the bat. The *field* column can be dropped because there is already a *field_cd* column that holds the columns numerical encoding."
   ]
  },
  {
   "cell_type": "code",
   "execution_count": 7,
   "metadata": {},
   "outputs": [
    {
     "name": "stdout",
     "output_type": "stream",
     "text": [
      "(8378, 196)\n",
      "(8378, 111)\n"
     ]
    }
   ],
   "source": [
    "print(data.shape)\n",
    "\n",
    "# Drop any columns if 23% or more of its values are NaN.\n",
    "data = data.dropna(thresh=len(data)*0.77, axis=1)\n",
    "\n",
    "# Convert columns to 1-dimensional Series array\n",
    "series = data.columns.to_series()\n",
    "\n",
    "# Drop columns to make dataset smaller and more manageable.\n",
    "data = data.drop(series[\"field\"], axis=1)\n",
    "\n",
    "print(data.shape)"
   ]
  },
  {
   "cell_type": "markdown",
   "metadata": {},
   "source": [
    "The column *sports* contains a couple of string values when it should represent a rating system from 1 to 10. Because there are only a few string values, we will replace them with the mean value of the column."
   ]
  },
  {
   "cell_type": "code",
   "execution_count": 8,
   "metadata": {
    "collapsed": true
   },
   "outputs": [],
   "source": [
    "# Convert all values in column to string type if not already.\n",
    "# This will allow us to perform string operations on non-numeric values.\n",
    "data['sports'] = data['sports'].astype(str)\n",
    "\n",
    "# Convert column to all caps so all the data will have the same format.\n",
    "data['sports'] = data['sports'].str.upper()\n",
    "\n",
    "# Remove all spaces between strings in each column.\n",
    "data['sports'] = data['sports'].str.replace(\" \", \"\")\n",
    "\n",
    "# Convert string values to NaN if the string contains any keywords.\n",
    "searchfor = ['TEACH']\n",
    "data.loc[data['sports'].str.contains('|'.join(searchfor), na=False), 'sports'] = np.NaN\n",
    "\n",
    "# Convert the column back to floating point format.\n",
    "data['sports'] = data['sports'].astype(float)\n",
    "\n",
    "# Replace the NaN values that we added with the mean of the column.\n",
    "data['sports'] = data['sports'].fillna(data['sports'].mean())"
   ]
  },
  {
   "cell_type": "markdown",
   "metadata": {},
   "source": [
    "There are two columns, *career* and *career_c*. The *career* column contains string values that represent a participant's aspiring career. The *career_c* column represents the numeric encoding of the *career* column, which makes the *career* column redundant. However, the column holding the encoding is missing some encodings for certain rows, so we will need to do the encoding ourselves for the missing rows."
   ]
  },
  {
   "cell_type": "code",
   "execution_count": 9,
   "metadata": {},
   "outputs": [
    {
     "name": "stdout",
     "output_type": "stream",
     "text": [
      "0        1.0\n",
      "1        1.0\n",
      "2        1.0\n",
      "3        1.0\n",
      "4        1.0\n",
      "5        1.0\n",
      "6        1.0\n",
      "7        1.0\n",
      "8        1.0\n",
      "9        1.0\n",
      "10       1.0\n",
      "11       1.0\n",
      "12       1.0\n",
      "13       1.0\n",
      "14       1.0\n",
      "15       1.0\n",
      "16       1.0\n",
      "17       1.0\n",
      "18       1.0\n",
      "19       1.0\n",
      "20       7.0\n",
      "21       7.0\n",
      "22       7.0\n",
      "23       7.0\n",
      "24       7.0\n",
      "25       7.0\n",
      "26       7.0\n",
      "27       7.0\n",
      "28       7.0\n",
      "29       7.0\n",
      "        ... \n",
      "8348     7.0\n",
      "8349     7.0\n",
      "8350     7.0\n",
      "8351     7.0\n",
      "8352     7.0\n",
      "8353     7.0\n",
      "8354     7.0\n",
      "8355     7.0\n",
      "8356    15.0\n",
      "8357    15.0\n",
      "8358    15.0\n",
      "8359    15.0\n",
      "8360    15.0\n",
      "8361    15.0\n",
      "8362    15.0\n",
      "8363    15.0\n",
      "8364    15.0\n",
      "8365    15.0\n",
      "8366    15.0\n",
      "8367    15.0\n",
      "8368    15.0\n",
      "8369    15.0\n",
      "8370    15.0\n",
      "8371    15.0\n",
      "8372    15.0\n",
      "8373    15.0\n",
      "8374    15.0\n",
      "8375    15.0\n",
      "8376    15.0\n",
      "8377    15.0\n",
      "Name: career_c, Length: 8378, dtype: float64\n"
     ]
    }
   ],
   "source": [
    "# If column 'career_c' is empty in places where column 'career' is not,\n",
    "# use column 'career' as the filler value.\n",
    "data['career_c'] = data['career_c'].fillna(data['career'])\n",
    "    \n",
    "# Convert columns to 1-dimensional Series array\n",
    "series = data.columns.to_series()\n",
    "\n",
    "# Drop the 'career' column after it is used as a filler for column 'career_c'.\n",
    "data = data.drop(series[\"career\"], axis=1)\n",
    "\n",
    "# Convert all values in column to string type if not already.\n",
    "# This will allow us to perform string operations on non-numeric values.\n",
    "data['career_c'] = data['career_c'].astype(str)\n",
    "\n",
    "# Convert column to all caps so all the data will have the same format.\n",
    "data['career_c'] = data['career_c'].str.upper()\n",
    "\n",
    "# Remove all spaces between strings in each column.\n",
    "data['career_c'] = data['career_c'].str.replace(\" \", \"\")\n",
    "\n",
    "# Convert string values to an integer equivalent if the string contains any keywords.\n",
    "searchfor = ['LAW']\n",
    "data.loc[data['career_c'].str.contains('|'.join(searchfor), na=False), 'career_c'] = 1\n",
    "\n",
    "searchfor = ['RESEARCH']\n",
    "data.loc[data['career_c'].str.contains('|'.join(searchfor), na=False), 'career_c'] = 2\n",
    "\n",
    "searchfor = ['ECON']\n",
    "data.loc[data['career_c'].str.contains('|'.join(searchfor), na=False), 'career_c'] = 7\n",
    "\n",
    "searchfor = ['HUMAN']\n",
    "data.loc[data['career_c'].str.contains('|'.join(searchfor), na=False), 'career_c'] = 9\n",
    "\n",
    "searchfor = ['TECH']\n",
    "data.loc[data['career_c'].str.contains('|'.join(searchfor), na=False), 'career_c'] = 15\n",
    "\n",
    "# Convert values back to floating point type.\n",
    "# Now there should be no more string values in column 'career_c'.\n",
    "data['career_c'] = data['career_c'].astype(float)\n",
    "    \n",
    "print(data['career_c'])"
   ]
  },
  {
   "cell_type": "markdown",
   "metadata": {},
   "source": [
    "The next column that needs preprocessing is the *from* column. This is a column of string values which is a problem because it needs to be encoded. Luckily many of the strings are repeating so we will create a function that makes the strings as homogenous as possible and then encodes them using *scikit learn's* Label Encoder."
   ]
  },
  {
   "cell_type": "markdown",
   "metadata": {},
   "source": [
    "This is what the data looks like before encoding it."
   ]
  },
  {
   "cell_type": "code",
   "execution_count": 10,
   "metadata": {},
   "outputs": [
    {
     "name": "stdout",
     "output_type": "stream",
     "text": [
      "0                 Chicago\n",
      "1                 Chicago\n",
      "2                 Chicago\n",
      "3                 Chicago\n",
      "4                 Chicago\n",
      "5                 Chicago\n",
      "6                 Chicago\n",
      "7                 Chicago\n",
      "8                 Chicago\n",
      "9                 Chicago\n",
      "10                Alabama\n",
      "11                Alabama\n",
      "12                Alabama\n",
      "13                Alabama\n",
      "14                Alabama\n",
      "15                Alabama\n",
      "16                Alabama\n",
      "17                Alabama\n",
      "18                Alabama\n",
      "19                Alabama\n",
      "20            Connecticut\n",
      "21            Connecticut\n",
      "22            Connecticut\n",
      "23            Connecticut\n",
      "24            Connecticut\n",
      "25            Connecticut\n",
      "26            Connecticut\n",
      "27            Connecticut\n",
      "28            Connecticut\n",
      "29            Connecticut\n",
      "              ...        \n",
      "8348    London & New York\n",
      "8349    London & New York\n",
      "8350    London & New York\n",
      "8351    London & New York\n",
      "8352    London & New York\n",
      "8353    London & New York\n",
      "8354    London & New York\n",
      "8355    London & New York\n",
      "8356               France\n",
      "8357               France\n",
      "8358               France\n",
      "8359               France\n",
      "8360               France\n",
      "8361               France\n",
      "8362               France\n",
      "8363               France\n",
      "8364               France\n",
      "8365               France\n",
      "8366               France\n",
      "8367               France\n",
      "8368               France\n",
      "8369               France\n",
      "8370               France\n",
      "8371               France\n",
      "8372               France\n",
      "8373               France\n",
      "8374               France\n",
      "8375               France\n",
      "8376               France\n",
      "8377               France\n",
      "Name: from, Length: 8378, dtype: object\n"
     ]
    }
   ],
   "source": [
    "print(data['from'])"
   ]
  },
  {
   "cell_type": "markdown",
   "metadata": {},
   "source": [
    "This is what the data looks like after encoding it."
   ]
  },
  {
   "cell_type": "code",
   "execution_count": 11,
   "metadata": {
    "collapsed": true
   },
   "outputs": [],
   "source": [
    "def encode_data(target, data):\n",
    "\n",
    "    # Label Encoder.\n",
    "    le = LabelEncoder()\n",
    "\n",
    "    # Convert column to all caps so all the data will have the same format.\n",
    "    data[target] = data[target].str.upper()\n",
    "\n",
    "    # Remove all spaces between strings in each column.\n",
    "    data[target] = data[target].str.replace(\" \", \"\")\n",
    "\n",
    "    # All string values are encoded to an integer.\n",
    "    data[target] = le.fit_transform(data[target])\n",
    "\n",
    "    return data"
   ]
  },
  {
   "cell_type": "code",
   "execution_count": 12,
   "metadata": {},
   "outputs": [
    {
     "name": "stdout",
     "output_type": "stream",
     "text": [
      "0        48\n",
      "1        48\n",
      "2        48\n",
      "3        48\n",
      "4        48\n",
      "5        48\n",
      "6        48\n",
      "7        48\n",
      "8        48\n",
      "9        48\n",
      "10        2\n",
      "11        2\n",
      "12        2\n",
      "13        2\n",
      "14        2\n",
      "15        2\n",
      "16        2\n",
      "17        2\n",
      "18        2\n",
      "19        2\n",
      "20       57\n",
      "21       57\n",
      "22       57\n",
      "23       57\n",
      "24       57\n",
      "25       57\n",
      "26       57\n",
      "27       57\n",
      "28       57\n",
      "29       57\n",
      "       ... \n",
      "8348    106\n",
      "8349    106\n",
      "8350    106\n",
      "8351    106\n",
      "8352    106\n",
      "8353    106\n",
      "8354    106\n",
      "8355    106\n",
      "8356     71\n",
      "8357     71\n",
      "8358     71\n",
      "8359     71\n",
      "8360     71\n",
      "8361     71\n",
      "8362     71\n",
      "8363     71\n",
      "8364     71\n",
      "8365     71\n",
      "8366     71\n",
      "8367     71\n",
      "8368     71\n",
      "8369     71\n",
      "8370     71\n",
      "8371     71\n",
      "8372     71\n",
      "8373     71\n",
      "8374     71\n",
      "8375     71\n",
      "8376     71\n",
      "8377     71\n",
      "Name: from, Length: 8378, dtype: int64\n"
     ]
    }
   ],
   "source": [
    "# Change all NaN values to an integer.\n",
    "data[data['from'].isnull()] = 0\n",
    "\n",
    "# All non-strings are converted to string type.\n",
    "data['from'] = data['from'].astype(str)\n",
    "    \n",
    "# Run the Label Encoder algorithm,\n",
    "# this will encode all strings to an integer.\n",
    "data = encode_data(\"from\", data)\n",
    "\n",
    "print(data['from'])"
   ]
  },
  {
   "cell_type": "markdown",
   "metadata": {},
   "source": [
    "We will do the same with the *zipcode* column. We will use the Label Encoder to encode the column of zipcodes since many are also repeating. Moreover, since this is the last preprocessing step, we will replace all remaining empty values with the mean values of their respective columns. This is better than simple dropping any row that contains any empty values because by doing so, a significant amount of data is removed. I tried this and I removed more than half the rows from the original data set."
   ]
  },
  {
   "cell_type": "code",
   "execution_count": 13,
   "metadata": {},
   "outputs": [
    {
     "name": "stdout",
     "output_type": "stream",
     "text": [
      "0       252\n",
      "1       252\n",
      "2       252\n",
      "3       252\n",
      "4       252\n",
      "5       252\n",
      "6       252\n",
      "7       252\n",
      "8       252\n",
      "9       252\n",
      "10      197\n",
      "11      197\n",
      "12      197\n",
      "13      197\n",
      "14      197\n",
      "15      197\n",
      "16      197\n",
      "17      197\n",
      "18      197\n",
      "19      197\n",
      "20      256\n",
      "21      256\n",
      "22      256\n",
      "23      256\n",
      "24      256\n",
      "25      256\n",
      "26      256\n",
      "27      256\n",
      "28      256\n",
      "29      256\n",
      "       ... \n",
      "8348     74\n",
      "8349     74\n",
      "8350     74\n",
      "8351     74\n",
      "8352     74\n",
      "8353     74\n",
      "8354     74\n",
      "8355     74\n",
      "8356    313\n",
      "8357    313\n",
      "8358    313\n",
      "8359    313\n",
      "8360    313\n",
      "8361    313\n",
      "8362    313\n",
      "8363    313\n",
      "8364    313\n",
      "8365    313\n",
      "8366    313\n",
      "8367    313\n",
      "8368    313\n",
      "8369    313\n",
      "8370    313\n",
      "8371    313\n",
      "8372    313\n",
      "8373    313\n",
      "8374    313\n",
      "8375    313\n",
      "8376    313\n",
      "8377    313\n",
      "Name: zipcode, Length: 8378, dtype: int64\n"
     ]
    }
   ],
   "source": [
    "# Change all NaN values to an integer.\n",
    "data[data['zipcode'].isnull()] = 0\n",
    "    \n",
    "# All non-strings are converted to string type.\n",
    "data['zipcode'] = data['zipcode'].astype(str)\n",
    "    \n",
    "# Run the Label Encoder algorithm,\n",
    "# this will encode all strings to an integer.\n",
    "data = encode_data(\"zipcode\", data)\n",
    "\n",
    "# All remaining NaN values are converted \n",
    "# to the mean of their respective column.\n",
    "data = data.fillna(data.mean())\n",
    "\n",
    "print(data['zipcode'])"
   ]
  },
  {
   "cell_type": "markdown",
   "metadata": {},
   "source": [
    "## Preprocessing Redundant Features with Clustering Techniques\n",
    "\n",
    "The next step is to use Recursive Feature Elimination to remove redundant features that hinder the accuracy rate of our models."
   ]
  },
  {
   "cell_type": "markdown",
   "metadata": {},
   "source": [
    "I used the RFE with a Logistic Regression model. The Logistic Regression assigns weights to every feature, then the recursion cuts out some features with the largest weights and then trains again. In my case this repeats until it is left with 3 features which have the highest weights and lowest cost. In essence, the RFE will tell you which 3 features are most important, but it will also give weights to every other feature in the dataset that tells you how correlated each feature is to the target column."
   ]
  },
  {
   "cell_type": "code",
   "execution_count": 14,
   "metadata": {},
   "outputs": [
    {
     "name": "stdout",
     "output_type": "stream",
     "text": [
      "3\n",
      "[False False False False False False False False False False False False\n",
      " False False False False False False False False False False  True False\n",
      " False False False False False False False False False False False False\n",
      " False False False False False False False False False False False False\n",
      " False False False False False False False False False False False False\n",
      " False False False False False False False False False False False False\n",
      " False False False False False False False False False False False False\n",
      "  True False False False False False False False False False False False\n",
      " False  True False False False False False False False False False False\n",
      " False]\n",
      "[ 42  50  11  51   2  41  20  87  86 106  72  71  23  15  69  61 103  79\n",
      "  92 105  65  89   1  33  91  43  56  59  96  76  44  93  95  48   7  22\n",
      "  21 104 107  52  10 101  58  66  32  34  24  31  30  90  39  37  54  35\n",
      "  36  94  64  78  25  73  57  84  85  98  77  99  81  55  49  60 102  29\n",
      "  19  68  82  67  88  80  62   5  13  26  14  70   1   4  18  63  45  17\n",
      "  38   6  16   3   8  83  12   1  97  47  75  74  53 100   9  40  28  27\n",
      "  46]\n"
     ]
    }
   ],
   "source": [
    "# Target column.\n",
    "target = \"match\"\n",
    "\n",
    "# Drop the target label, which we save separately.\n",
    "X = data.drop([target], axis=1).values\n",
    "y = data[target].values\n",
    "\n",
    "# Estimator for Recursive Feature Elimination (RFE).\n",
    "model = LogisticRegression()\n",
    "    \n",
    "# RFE will use Logistic Regression.\n",
    "# The Result will be a unique set of values which represents\n",
    "# the column's weight of importance within the dataset.\n",
    "rfe = RFE(model, 3)\n",
    "fit = rfe.fit(X, y)\n",
    "\n",
    "print(fit.n_features_)\n",
    "print(fit.support_)\n",
    "print(fit.ranking_)"
   ]
  },
  {
   "cell_type": "markdown",
   "metadata": {},
   "source": [
    "As is visible, a weight is assigned to every feature. Three of them are assigned the number 1. These three represent the data that is most correlated to the *match* column."
   ]
  },
  {
   "cell_type": "code",
   "execution_count": 15,
   "metadata": {},
   "outputs": [
    {
     "name": "stdout",
     "output_type": "stream",
     "text": [
      "order\n",
      "race_o\n",
      "pf_o_sin\n",
      "pf_o_int\n",
      "pf_o_amb\n",
      "attr_o\n",
      "amb_o\n",
      "prob_o\n",
      "met_o\n",
      "imprelig\n",
      "from\n",
      "date\n",
      "art\n",
      "theater\n",
      "sinc1_1\n",
      "fun1_1\n",
      "intel4_1\n",
      "intel2_1\n",
      "numdat_2\n",
      "amb1_2\n"
     ]
    }
   ],
   "source": [
    "header_list = list(data.columns.values)\n",
    "\n",
    "# Any column with a weight of 88 or over will be removed.\n",
    "# We will consider anything above a weight of 88 as redundant.\n",
    "ix = 0\n",
    "for rank in fit.ranking_:\n",
    "    if rank >= 88:\n",
    "        print(header_list[ix])\n",
    "    ix += 1"
   ]
  },
  {
   "cell_type": "markdown",
   "metadata": {
    "collapsed": true
   },
   "source": [
    "I decided to make the weight threshold 88. So anything greater than or equal to 88 is considered redundant and can be removed. The output above displays which features can be removed."
   ]
  },
  {
   "cell_type": "markdown",
   "metadata": {
    "collapsed": true
   },
   "source": [
    "We can implement a simple Decision Tree to show what are accuracy rate is like so far."
   ]
  },
  {
   "cell_type": "code",
   "execution_count": 16,
   "metadata": {},
   "outputs": [
    {
     "name": "stdout",
     "output_type": "stream",
     "text": [
      "Decision Tree Score (No Cross-validation): 1.0\n"
     ]
    }
   ],
   "source": [
    "def decision_tree(target, data):\n",
    "\n",
    "    # Drop the target label, which we save separately.\n",
    "    X = data.drop([target], axis=1).values\n",
    "    y = data[target].values\n",
    "\n",
    "    # Split data in a 20/80 split.\n",
    "    X_train, X_test, y_train, y_test = model_selection.train_test_split(X, y, test_size=0.2)\n",
    "\n",
    "    # Initialize a decison tree with a max_depth of 10.\n",
    "    clf_tree = tree.DecisionTreeClassifier(max_depth=10)\n",
    "\n",
    "    # Fit the model with the training data.\n",
    "    clf_tree.fit(X_train, y_train)\n",
    "\n",
    "    # Use the test data to calculate the score.\n",
    "    print(\"Decision Tree Score (No Cross-validation):\", clf_tree.score(X_test, y_test))\n",
    "    \n",
    "decision_tree(\"match\", data)"
   ]
  },
  {
   "cell_type": "markdown",
   "metadata": {},
   "source": [
    "The score give us 100% accuracy. This is because one of the columns is acting as a predictor. The column doing this is the *dec* column. I removed it and ran the Decision Tree again."
   ]
  },
  {
   "cell_type": "code",
   "execution_count": 17,
   "metadata": {},
   "outputs": [
    {
     "name": "stdout",
     "output_type": "stream",
     "text": [
      "Decision Tree Score (No Cross-validation): 0.90214797136\n"
     ]
    }
   ],
   "source": [
    "# Remove predictor column.\n",
    "data = data.drop(series[\"dec\"], axis=1)\n",
    "\n",
    "decision_tree(\"match\", data)"
   ]
  },
  {
   "cell_type": "markdown",
   "metadata": {},
   "source": [
    "Now we will remove the columns deemed as redundant by our RFE model."
   ]
  },
  {
   "cell_type": "code",
   "execution_count": 18,
   "metadata": {},
   "outputs": [
    {
     "name": "stdout",
     "output_type": "stream",
     "text": [
      "Decision Tree Score (No Cross-validation): 0.909307875895\n"
     ]
    }
   ],
   "source": [
    "data = data.drop(series[\"iid\"], axis=1)\n",
    "data = data.drop(series[\"attr4_1\":\"amb4_1\"], axis=1)\n",
    "data = data.drop(series[\"gender\"], axis=1)\n",
    "data = data.drop(series[\"order\"], axis=1)\n",
    "data = data.drop(series[\"fun_o\"], axis=1)\n",
    "data = data.drop(series[\"shar_o\"], axis=1)\n",
    "data = data.drop(series[\"imprelig\"], axis=1)\n",
    "data = data.drop(series[\"prob\"], axis=1)\n",
    "data = data.drop(series[\"match_es\"], axis=1)\n",
    "data = data.drop(series[\"satis_2\"], axis=1)\n",
    "data = data.drop(series[\"amb1_2\"], axis=1)\n",
    "data = data.drop(series[\"fun3_2\"], axis=1)\n",
    "data = data.drop(series[\"positin1\"], axis=1)\n",
    "data = data.drop(series[\"sinc1_2\"], axis=1)\n",
    "\n",
    "decision_tree(\"match\", data)"
   ]
  },
  {
   "cell_type": "markdown",
   "metadata": {},
   "source": [
    "The accuracy rating improved. In the next step, we will implement some more models to train on the preprocessed data set."
   ]
  }
 ],
 "metadata": {
  "kernelspec": {
   "display_name": "Python 3",
   "language": "python",
   "name": "python3"
  },
  "language_info": {
   "codemirror_mode": {
    "name": "ipython",
    "version": 3
   },
   "file_extension": ".py",
   "mimetype": "text/x-python",
   "name": "python",
   "nbconvert_exporter": "python",
   "pygments_lexer": "ipython3",
   "version": "3.5.2"
  }
 },
 "nbformat": 4,
 "nbformat_minor": 2
}
